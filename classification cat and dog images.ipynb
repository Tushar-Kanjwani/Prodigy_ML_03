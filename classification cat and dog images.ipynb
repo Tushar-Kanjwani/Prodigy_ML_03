{
 "cells": [
  {
   "cell_type": "code",
   "execution_count": 16,
   "id": "743fc9e2",
   "metadata": {},
   "outputs": [],
   "source": [
    "import os \n",
    "import numpy as np\n",
    "import cv2\n",
    "import matplotlib.pyplot as plt\n",
    "import pickle\n",
    "import random\n",
    "from sklearn.model_selection import train_test_split\n",
    "from sklearn.svm import SVC"
   ]
  },
  {
   "cell_type": "code",
   "execution_count": 17,
   "id": "d553560a",
   "metadata": {},
   "outputs": [],
   "source": [
    "dir ='C:\\\\Users\\\\Dell\\\\Desktop\\\\Dog and Cat .png'\n"
   ]
  },
  {
   "cell_type": "code",
   "execution_count": 18,
   "id": "fa0fed49",
   "metadata": {},
   "outputs": [],
   "source": [
    "categories = ['Cat','Dog']\n",
    "data = []"
   ]
  },
  {
   "cell_type": "markdown",
   "id": "63146a1c",
   "metadata": {},
   "source": [
    "  plt.imshow(pet_img, cmap='gray')\n",
    "        plt.title('Image')\n",
    "        plt.axis('off')\n",
    "        plt.show()\n",
    "        \n",
    "        break  # Break after displaying the first image in each category\n",
    "    break  # Break after processing the first category\n",
    "    \n",
    "cv2.waitKey(0)\n",
    "cv2.destroyAllWindows()"
   ]
  },
  {
   "cell_type": "code",
   "execution_count": 19,
   "id": "6aa8e890",
   "metadata": {},
   "outputs": [],
   "source": [
    "for category in categories:\n",
    "    path = os.path.join(dir, category)\n",
    "    label = categories.index(category)\n",
    "    for img in os.listdir(path):\n",
    "        imgpath = os.path.join(path, img)\n",
    "        pet_img = cv2.imread(imgpath, 0)\n",
    "        try:\n",
    "            pet_img = cv2.resize(pet_img,(250,250))\n",
    "            image = np.array(pet_img).flatten()\n",
    "            data.append([image,label])\n",
    "        \n",
    "        except Exception as e:\n",
    "            pass\n",
    "   \n",
    "      \n"
   ]
  },
  {
   "cell_type": "code",
   "execution_count": 20,
   "id": "ef5c8adb",
   "metadata": {},
   "outputs": [],
   "source": [
    "random.shuffle(data)\n",
    "features = []\n",
    "labels = []"
   ]
  },
  {
   "cell_type": "code",
   "execution_count": 21,
   "id": "adeb7091",
   "metadata": {},
   "outputs": [],
   "source": [
    "for feature, label in data:\n",
    "    features.append(feature)\n",
    "    labels.append(label)"
   ]
  },
  {
   "cell_type": "code",
   "execution_count": 22,
   "id": "ab82b6cf",
   "metadata": {},
   "outputs": [],
   "source": [
    "xtrain, xtest, ytrain, ytest = train_test_split(features, labels, test_size=0.25)"
   ]
  },
  {
   "cell_type": "code",
   "execution_count": null,
   "id": "48eb54ea",
   "metadata": {},
   "outputs": [],
   "source": [
    "model = SVC(C=1,kernel='poly', gamma ='auto')\n",
    "model.fit(xtrain,ytrain)\n",
    "\n",
    "prediction=model.predict(xtest)\n",
    "accuracy = model.score(xtest,ytest)\n",
    "categories = ['Cat','Dog']\n",
    "print('Accuracy: ',accuracy)\n",
    "print('Predicition is :', categories[prediction[0]])\n",
    "\n",
    "mypet=xtest[0].reshape(250,250)\n",
    "plt.imshow(mypet,cmap='gray')\n",
    "plt.title('Image')\n",
    "plt.axis('off')\n",
    "plt.show()\n"
   ]
  },
  {
   "cell_type": "code",
   "execution_count": null,
   "id": "c752fbbc",
   "metadata": {},
   "outputs": [],
   "source": []
  }
 ],
 "metadata": {
  "kernelspec": {
   "display_name": "Python 3 (ipykernel)",
   "language": "python",
   "name": "python3"
  },
  "language_info": {
   "codemirror_mode": {
    "name": "ipython",
    "version": 3
   },
   "file_extension": ".py",
   "mimetype": "text/x-python",
   "name": "python",
   "nbconvert_exporter": "python",
   "pygments_lexer": "ipython3",
   "version": "3.10.9"
  }
 },
 "nbformat": 4,
 "nbformat_minor": 5
}
